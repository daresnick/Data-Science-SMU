{
 "cells": [
  {
   "cell_type": "markdown",
   "metadata": {},
   "source": [
    "# Predicting Delayed Flights in the U.S."
   ]
  },
  {
   "cell_type": "markdown",
   "metadata": {},
   "source": [
    "- This workbook will explore the \"[`Flights Dataset`](http://stat-computing.org/dataexpo/2009/the-data.html)\" and predicts delayed flights at airports located in the United States bases on previous flight records. The dataset consists of flight information such as arrival and departure times. Additionally, the .dat file for plotting the geographical location of airports in the U.S. can be found [`here`](https://github.com/jpatokal/openflights/blob/master/data/airports.dat). Jupyter Notebook and Spark is utilized to explore, analyze and visualize the results. This dataset examines flights in 2008 which is roughly 7 million flights! Apache Spark (locally) will be utilized to analyze this dataset. "
   ]
  },
  {
   "cell_type": "code",
   "execution_count": 1,
   "metadata": {
    "collapsed": false
   },
   "outputs": [],
   "source": [
    "from pyspark.sql import SQLContext\n",
    "from pyspark.sql.types import *\n",
    "from pyspark.sql import Row\n",
    "import sys\n",
    "import os\n",
    "import numpy as np\n",
    "import pandas as pd\n",
    "import time\n",
    "import datetime\n",
    "import matplotlib.pyplot as plt\n",
    "import os.path\n",
    "%matplotlib inline\n",
    "import sqlite3\n",
    "plt.style.use('ggplot')"
   ]
  },
  {
   "cell_type": "code",
   "execution_count": 6,
   "metadata": {
    "collapsed": false
   },
   "outputs": [],
   "source": [
    "try:\n",
    "    db = sqlite3.connect('Flights')\n",
    "    c = db.cursor()\n",
    "    c.execute('''CREATE TABLE IF NOT EXISTS flight_info(Year INT,\n",
    "        Month INT,DayofMonth INT, DayOfWeek INT, DepTime INT, CRSDepTime INT, ArrTime INT,\n",
    "        CRSArrTime INT, UniqueCarrier TEXT, FlightNum INT, TailNum CHAR(8), ActualElapsedTime INT,\n",
    "        CRSElapsedTime INT, AirTime INT, ArrDelay INT, DepDelay INT,\n",
    "        Origin TEXT, Dest TEXT, Distance INT,TaxiIn INT, TaxiOut INT,Cancelled INT,CancellationCode TEXT,\n",
    "        Diverted INT,CarrierDelay INT,WeatherDelay INT,NASDelay INT,SecurityDelay INT,LateAircraftDelay INT)''')\n",
    "    db.commit()\n",
    "    db.close()\n",
    "except Exception as e:\n",
    "    print(str(e))\n",
    "    \n",
    "try:\n",
    "    db = sqlite3.connect('Flights')\n",
    "    c = db.cursor()\n",
    "    c.execute('''CREATE TABLE IF NOT EXISTS airports(AirportID INT, Name TEXT, City TEXT, \n",
    "                Country TEXT, FAACODE TEXT, ICAO TEXT, LATITUDE INT, LONGITUDE INT, \n",
    "                ALTITUDE INT, TimeZ INT, DST TEXT, TZ TEXT)''')\n",
    "    db.commit()\n",
    "    db.close()\n",
    "except Exception as e:\n",
    "    print(str(e))"
   ]
  },
  {
   "cell_type": "code",
   "execution_count": 7,
   "metadata": {
    "collapsed": false,
    "scrolled": false
   },
   "outputs": [
    {
     "name": "stdout",
     "output_type": "stream",
     "text": [
      "CPU times: user 1min 51s, sys: 7.75 s, total: 1min 58s\n",
      "Wall time: 2min\n"
     ]
    }
   ],
   "source": [
    "db = sqlite3.connect('Flights')\n",
    "c = db.cursor()\n",
    "df = pd.read_csv('2008.csv',sep=',')\n",
    "%time df.to_sql('flight_info',db, if_exists='append', index=False)"
   ]
  },
  {
   "cell_type": "code",
   "execution_count": 8,
   "metadata": {
    "collapsed": false
   },
   "outputs": [
    {
     "name": "stdout",
     "output_type": "stream",
     "text": [
      "CPU times: user 59.2 ms, sys: 6.6 ms, total: 65.8 ms\n",
      "Wall time: 68.9 ms\n"
     ]
    }
   ],
   "source": [
    "db = sqlite3.connect('Flights')\n",
    "c = db.cursor()\n",
    "df_a = pd.read_csv('airport_location.csv',sep=',',names = ['AirportID','Name','City','Country','FAACode',\n",
    "                        'ICAO','Latitude','Longitude','Altitude','TimeZ','DST','TZ'])\n",
    "\n",
    "%time df_a.to_sql('airports',db,if_exists='append', index=False)"
   ]
  },
  {
   "cell_type": "code",
   "execution_count": 9,
   "metadata": {
    "collapsed": false
   },
   "outputs": [
    {
     "name": "stdout",
     "output_type": "stream",
     "text": [
      "CPU times: user 597 µs, sys: 828 µs, total: 1.42 ms\n",
      "Wall time: 961 µs\n"
     ]
    },
    {
     "data": {
      "text/plain": [
       "<sqlite3.Cursor at 0x1101d73b0>"
      ]
     },
     "execution_count": 9,
     "metadata": {},
     "output_type": "execute_result"
    }
   ],
   "source": [
    "%time c.execute('''SELECT * FROM flight_info''')"
   ]
  },
  {
   "cell_type": "code",
   "execution_count": 10,
   "metadata": {
    "collapsed": false
   },
   "outputs": [
    {
     "name": "stdout",
     "output_type": "stream",
     "text": [
      "CPU times: user 234 µs, sys: 453 µs, total: 687 µs\n",
      "Wall time: 700 µs\n"
     ]
    },
    {
     "data": {
      "text/plain": [
       "<sqlite3.Cursor at 0x1101d73b0>"
      ]
     },
     "execution_count": 10,
     "metadata": {},
     "output_type": "execute_result"
    }
   ],
   "source": [
    "%time c.execute('''SELECT * FROM airports''')"
   ]
  },
  {
   "cell_type": "markdown",
   "metadata": {},
   "source": [
    "## Apache Spark"
   ]
  },
  {
   "cell_type": "code",
   "execution_count": 2,
   "metadata": {
    "collapsed": false
   },
   "outputs": [
    {
     "data": {
      "text/html": [
       "<div>\n",
       "<table border=\"1\" class=\"dataframe\">\n",
       "  <thead>\n",
       "    <tr style=\"text-align: right;\">\n",
       "      <th></th>\n",
       "      <th>name</th>\n",
       "      <th>city</th>\n",
       "      <th>country</th>\n",
       "      <th>faa_code</th>\n",
       "      <th>ICAO</th>\n",
       "      <th>lat</th>\n",
       "      <th>lng</th>\n",
       "      <th>alt</th>\n",
       "      <th>TZone</th>\n",
       "      <th>DST</th>\n",
       "      <th>Tz</th>\n",
       "    </tr>\n",
       "  </thead>\n",
       "  <tbody>\n",
       "    <tr>\n",
       "      <th>2</th>\n",
       "      <td>Madang</td>\n",
       "      <td>Madang</td>\n",
       "      <td>Papua New Guinea</td>\n",
       "      <td>MAG</td>\n",
       "      <td>AYMD</td>\n",
       "      <td>-5.207083</td>\n",
       "      <td>145.788700</td>\n",
       "      <td>20</td>\n",
       "      <td>10.0</td>\n",
       "      <td>U</td>\n",
       "      <td>Pacific/Port_Moresby</td>\n",
       "    </tr>\n",
       "    <tr>\n",
       "      <th>3</th>\n",
       "      <td>Mount Hagen</td>\n",
       "      <td>Mount Hagen</td>\n",
       "      <td>Papua New Guinea</td>\n",
       "      <td>HGU</td>\n",
       "      <td>AYMH</td>\n",
       "      <td>-5.826789</td>\n",
       "      <td>144.295861</td>\n",
       "      <td>5388</td>\n",
       "      <td>10.0</td>\n",
       "      <td>U</td>\n",
       "      <td>Pacific/Port_Moresby</td>\n",
       "    </tr>\n",
       "    <tr>\n",
       "      <th>4</th>\n",
       "      <td>Nadzab</td>\n",
       "      <td>Nadzab</td>\n",
       "      <td>Papua New Guinea</td>\n",
       "      <td>LAE</td>\n",
       "      <td>AYNZ</td>\n",
       "      <td>-6.569828</td>\n",
       "      <td>146.726242</td>\n",
       "      <td>239</td>\n",
       "      <td>10.0</td>\n",
       "      <td>U</td>\n",
       "      <td>Pacific/Port_Moresby</td>\n",
       "    </tr>\n",
       "    <tr>\n",
       "      <th>5</th>\n",
       "      <td>Port Moresby Jacksons Intl</td>\n",
       "      <td>Port Moresby</td>\n",
       "      <td>Papua New Guinea</td>\n",
       "      <td>POM</td>\n",
       "      <td>AYPY</td>\n",
       "      <td>-9.443383</td>\n",
       "      <td>147.220050</td>\n",
       "      <td>146</td>\n",
       "      <td>10.0</td>\n",
       "      <td>U</td>\n",
       "      <td>Pacific/Port_Moresby</td>\n",
       "    </tr>\n",
       "    <tr>\n",
       "      <th>6</th>\n",
       "      <td>Wewak Intl</td>\n",
       "      <td>Wewak</td>\n",
       "      <td>Papua New Guinea</td>\n",
       "      <td>WWK</td>\n",
       "      <td>AYWK</td>\n",
       "      <td>-3.583828</td>\n",
       "      <td>143.669186</td>\n",
       "      <td>19</td>\n",
       "      <td>10.0</td>\n",
       "      <td>U</td>\n",
       "      <td>Pacific/Port_Moresby</td>\n",
       "    </tr>\n",
       "  </tbody>\n",
       "</table>\n",
       "</div>"
      ],
      "text/plain": [
       "                         name          city           country faa_code  ICAO  \\\n",
       "2                      Madang        Madang  Papua New Guinea      MAG  AYMD   \n",
       "3                 Mount Hagen   Mount Hagen  Papua New Guinea      HGU  AYMH   \n",
       "4                      Nadzab        Nadzab  Papua New Guinea      LAE  AYNZ   \n",
       "5  Port Moresby Jacksons Intl  Port Moresby  Papua New Guinea      POM  AYPY   \n",
       "6                  Wewak Intl         Wewak  Papua New Guinea      WWK  AYWK   \n",
       "\n",
       "        lat         lng   alt  TZone DST                    Tz  \n",
       "2 -5.207083  145.788700    20   10.0   U  Pacific/Port_Moresby  \n",
       "3 -5.826789  144.295861  5388   10.0   U  Pacific/Port_Moresby  \n",
       "4 -6.569828  146.726242   239   10.0   U  Pacific/Port_Moresby  \n",
       "5 -9.443383  147.220050   146   10.0   U  Pacific/Port_Moresby  \n",
       "6 -3.583828  143.669186    19   10.0   U  Pacific/Port_Moresby  "
      ]
     },
     "execution_count": 2,
     "metadata": {},
     "output_type": "execute_result"
    }
   ],
   "source": [
    "airport_loc_df = pd.read_csv('airport_location.csv',index_col=0,\n",
    "        names = ['name', 'city', 'country','faa_code','ICAO','lat',\n",
    "        'lng','alt','TZone','DST','Tz'], header=0)\n",
    "airport_loc_df.head()"
   ]
  },
  {
   "cell_type": "code",
   "execution_count": 3,
   "metadata": {
    "collapsed": false
   },
   "outputs": [
    {
     "name": "stdout",
     "output_type": "stream",
     "text": [
      "Total Number of Rows: 7009729\n"
     ]
    }
   ],
   "source": [
    "try:\n",
    "    data = sc.textFile(\"2008.csv\")\n",
    "    count_data = data.count()\n",
    "    print \"Total Number of Rows: {}\".format(count_data)\n",
    "except Exception as e:\n",
    "    print str(e)"
   ]
  },
  {
   "cell_type": "markdown",
   "metadata": {},
   "source": [
    "#### Preprocessing Data: "
   ]
  },
  {
   "cell_type": "code",
   "execution_count": 4,
   "metadata": {
    "collapsed": false
   },
   "outputs": [
    {
     "name": "stdout",
     "output_type": "stream",
     "text": [
      "[u'Year', u'Month', u'DayofMonth', u'DayOfWeek', u'DepTime', u'CRSDepTime', u'ArrTime', u'CRSArrTime', u'UniqueCarrier', u'FlightNum', u'TailNum', u'ActualElapsedTime', u'CRSElapsedTime', u'AirTime', u'ArrDelay', u'DepDelay', u'Origin', u'Dest', u'Distance', u'TaxiIn', u'TaxiOut', u'Cancelled', u'CancellationCode', u'Diverted', u'CarrierDelay', u'WeatherDelay', u'NASDelay', u'SecurityDelay', u'LateAircraftDelay']\n"
     ]
    }
   ],
   "source": [
    "#transformation\n",
    "split_data = data.map(lambda line: line.split(',')) \n",
    "#action\n",
    "header = split_data.first()\n",
    "print header"
   ]
  },
  {
   "cell_type": "code",
   "execution_count": 5,
   "metadata": {
    "collapsed": false
   },
   "outputs": [
    {
     "name": "stdout",
     "output_type": "stream",
     "text": [
      "+--------+-------+----------+----------+---------+----------+--------+-------+----+--------+-----+------+-------------+----+\n",
      "|ArrDelay|ArrTime|CRSArrTime|CRSDepTime|DayOfWeek|DayofMonth|DepDelay|DepTime|Dest|Distance|Month|Origin|UniqueCarrier|Year|\n",
      "+--------+-------+----------+----------+---------+----------+--------+-------+----+--------+-----+------+-------------+----+\n",
      "|     -14|   2211|      2225|      1955|        4|         3|       8|   2003| TPA|     810|    1|   IAD|           WN|2008|\n",
      "|       2|   1002|      1000|       735|        4|         3|      19|    754| TPA|     810|    1|   IAD|           WN|2008|\n",
      "|      14|    804|       750|       620|        4|         3|       8|    628| BWI|     515|    1|   IND|           WN|2008|\n",
      "|      -6|   1054|      1100|       930|        4|         3|      -4|    926| BWI|     515|    1|   IND|           WN|2008|\n",
      "|      34|   1959|      1925|      1755|        4|         3|      34|   1829| BWI|     515|    1|   IND|           WN|2008|\n",
      "+--------+-------+----------+----------+---------+----------+--------+-------+----+--------+-----+------+-------------+----+\n",
      "only showing top 5 rows\n",
      "\n"
     ]
    }
   ],
   "source": [
    "def parse(r):\n",
    "    try:\n",
    "        x = Row(Year=int(r[0]), Month=int(r[1]),DayofMonth=int(r[2]),\\\n",
    "            DayOfWeek=int(r[3]),DepTime=int(float(r[4])),CRSDepTime=int(r[5]),\\\n",
    "            ArrTime=int(float(r[6])),CRSArrTime=int(r[7]),UniqueCarrier=r[8],\\\n",
    "            ArrDelay=int(float(r[14])),DepDelay=int(float(r[15])),Origin=r[16],Dest=r[17],Distance=int(float(r[18])))  \n",
    "    except:\n",
    "        x=None  \n",
    "    return x\n",
    "\n",
    "textRDD = split_data.filter(lambda r: r != header)\n",
    "rowRDD = textRDD.map(lambda r: parse(r)).filter(lambda r:r != None)\n",
    "dataframe = sqlContext.createDataFrame(rowRDD)\n",
    "dataframe.show(5)"
   ]
  },
  {
   "cell_type": "markdown",
   "metadata": {},
   "source": [
    "- Adding binary labels to **DepDelayed** columns as this will become the \"target\" column for the predicitons. \n",
    "    - **True** for flights that have more than 15 minute delay (t>15)\n",
    "    - **False** for flights that are less than or equal to 15 minute delay (<=15)"
   ]
  },
  {
   "cell_type": "code",
   "execution_count": 11,
   "metadata": {
    "collapsed": false
   },
   "outputs": [],
   "source": [
    "#Adding column 'DepDelayed' and assigning True/False if >15 mins\n",
    "dataframe = dataframe.withColumn('DepDelayed', dataframe['DepDelay']>15)"
   ]
  },
  {
   "cell_type": "code",
   "execution_count": 7,
   "metadata": {
    "collapsed": false
   },
   "outputs": [],
   "source": [
    "%time df = dataframe.toPandas()"
   ]
  },
  {
   "cell_type": "code",
   "execution_count": null,
   "metadata": {
    "collapsed": true
   },
   "outputs": [],
   "source": [
    "fig = plt.figure(figsize=(15,10))\n",
    "ax = fig.add_subplot(111)\n",
    "df['DayOfMonth'].plot(kind='bar')\n",
    "plt.title('Total Number of Flights by Day of Month',fontsize=20,y=1.03)\n",
    "plt.show()"
   ]
  },
  {
   "cell_type": "code",
   "execution_count": null,
   "metadata": {
    "collapsed": false
   },
   "outputs": [],
   "source": [
    "fig = plt.figure(figsize=(15,10))\n",
    "ax = fig.add_subplot(111)\n",
    "df['DayOfWeek'].plot(kind='bar')\n",
    "plt.title('Total Number of Flights by Day of Week',fontsize=20,y=1.03)\n",
    "plt.show()"
   ]
  },
  {
   "cell_type": "code",
   "execution_count": null,
   "metadata": {
    "collapsed": false
   },
   "outputs": [
    {
     "name": "stdout",
     "output_type": "stream",
     "text": [
      "CPU times: user 1min 11s, sys: 5.86 s, total: 1min 17s\n",
      "Wall time: 2min 17s\n"
     ]
    }
   ],
   "source": [
    "%time df = dataframe.toPandas()\n",
    "fig = plt.figure(figsize=(15,10))\n",
    "ax = fig.add_subplot(111)\n",
    "df['DepDelayed'].plot(kind='bar',color='Navy')\n",
    "plt.title('Delayed Flights Breakdown',fontsize=20,y=1.03)\n",
    "plt.show()"
   ]
  },
  {
   "cell_type": "markdown",
   "metadata": {},
   "source": [
    "- In the following script, a new column **Hour** is added to determine what is the hour of flight (0 to 24)"
   ]
  },
  {
   "cell_type": "code",
   "execution_count": 20,
   "metadata": {
    "collapsed": false
   },
   "outputs": [],
   "source": [
    "def hour(x):\n",
    "    hour = int(str(int(x)).zfill(4)[:2])\n",
    "    return hour\n",
    "from pyspark.sql.functions import udf"
   ]
  },
  {
   "cell_type": "code",
   "execution_count": 21,
   "metadata": {
    "collapsed": false
   },
   "outputs": [],
   "source": [
    "# register as a UDF \n",
    "f = udf(hour, IntegerType())\n",
    "#CRSDepTime: scheduled departure time (local, hhmm)\n",
    "dataframe = dataframe.withColumn('hour', f(dataframe.CRSDepTime))\n",
    "dataframe.registerTempTable(\"dataframe\")"
   ]
  },
  {
   "cell_type": "code",
   "execution_count": 22,
   "metadata": {
    "collapsed": false
   },
   "outputs": [
    {
     "name": "stdout",
     "output_type": "stream",
     "text": [
      "+----------+----+\n",
      "|CRSDepTime|hour|\n",
      "+----------+----+\n",
      "|      1955|  19|\n",
      "|       735|   7|\n",
      "|       620|   6|\n",
      "|       930|   9|\n",
      "|      1755|  17|\n",
      "+----------+----+\n",
      "only showing top 5 rows\n",
      "\n"
     ]
    }
   ],
   "source": [
    "dataframe.select('CRSDepTime','hour').show(5)"
   ]
  },
  {
   "cell_type": "markdown",
   "metadata": {},
   "source": [
    "### Exploring the Data:"
   ]
  },
  {
   "cell_type": "code",
   "execution_count": 23,
   "metadata": {
    "collapsed": false
   },
   "outputs": [
    {
     "data": {
      "text/html": [
       "<div>\n",
       "<table border=\"1\" class=\"dataframe\">\n",
       "  <thead>\n",
       "    <tr style=\"text-align: right;\">\n",
       "      <th></th>\n",
       "      <th>Origin</th>\n",
       "      <th>Num_Flights</th>\n",
       "      <th>Delay</th>\n",
       "    </tr>\n",
       "  </thead>\n",
       "  <tbody>\n",
       "    <tr>\n",
       "      <th>0</th>\n",
       "      <td>BGM</td>\n",
       "      <td>699</td>\n",
       "      <td>5.915594</td>\n",
       "    </tr>\n",
       "    <tr>\n",
       "      <th>1</th>\n",
       "      <td>PSE</td>\n",
       "      <td>742</td>\n",
       "      <td>0.057951</td>\n",
       "    </tr>\n",
       "    <tr>\n",
       "      <th>2</th>\n",
       "      <td>DLG</td>\n",
       "      <td>111</td>\n",
       "      <td>16.495495</td>\n",
       "    </tr>\n",
       "    <tr>\n",
       "      <th>3</th>\n",
       "      <td>INL</td>\n",
       "      <td>71</td>\n",
       "      <td>-4.802817</td>\n",
       "    </tr>\n",
       "    <tr>\n",
       "      <th>4</th>\n",
       "      <td>MSY</td>\n",
       "      <td>38510</td>\n",
       "      <td>8.891587</td>\n",
       "    </tr>\n",
       "  </tbody>\n",
       "</table>\n",
       "</div>"
      ],
      "text/plain": [
       "  Origin  Num_Flights      Delay\n",
       "0    BGM          699   5.915594\n",
       "1    PSE          742   0.057951\n",
       "2    DLG          111  16.495495\n",
       "3    INL           71  -4.802817\n",
       "4    MSY        38510   8.891587"
      ]
     },
     "execution_count": 23,
     "metadata": {},
     "output_type": "execute_result"
    }
   ],
   "source": [
    "# Which airport has the most delays??\n",
    "# Write SQL query to group delays \n",
    "\n",
    "delays = sqlContext.sql(\"SELECT Origin, count(*) Num_Flights,avg(DepDelay) Delay FROM dataframe GROUP BY Origin\")\n",
    "\n",
    "origin_df = delays.toPandas() #convert to dataframe\n",
    "origin_df.head()"
   ]
  },
  {
   "cell_type": "code",
   "execution_count": null,
   "metadata": {
    "collapsed": false,
    "scrolled": false
   },
   "outputs": [],
   "source": [
    "#Join origin_df with airports\n",
    "df_airports = pd.merge(origin_df,airport_loc_df,left_on = 'Origin',right_on = 'faa_code')\n",
    "df_airports.head()"
   ]
  },
  {
   "cell_type": "code",
   "execution_count": null,
   "metadata": {
    "collapsed": false,
    "scrolled": false
   },
   "outputs": [],
   "source": [
    "from mpl_toolkits.basemap import Basemap\n",
    "import matplotlib.pyplot as pl\n",
    "from pylab import rcParams\n",
    "%matplotlib inline\n",
    "\n",
    "def zscore(x):\n",
    "    return (x-np.average(x))/np.std(x)\n",
    "\n",
    "fig = plt.figure(figsize=(20,20))\n",
    "map = Basemap(projection = 'merc',area_thresh = 4000,resolution ='i',\n",
    "              rsphere=6371200.,llcrnrlon=-130, \n",
    "              llcrnrlat=21,urcrnrlon=-62, urcrnrlat=52)\n",
    "\n",
    "map.drawcoastlines()\n",
    "map.drawcountries()\n",
    "map.fillcontinents(color = 'white',alpha=0.3)\n",
    "map.drawstates()\n",
    "map.shadedrelief()\n",
    "\n",
    "#Plot Airport Delay\n",
    "countrange=max(df_airports['Num_Flights'])-min(df_airports['Num_Flights'])\n",
    "standarize = (zscore(df_airports['Delay']))\n",
    "x,y = map(np.asarray(df_airports['lng']),np.asarray(df_airports['lat']))\n",
    "volume=df_airports['Num_Flights']*4000.0/countrange\n",
    "\n",
    "#Add color to map:\n",
    "color = pl.get_cmap('coolwarm')(np.linspace(0.0,1.0,70))\n",
    "color = np.flipud(color)\n",
    "map.scatter(x, y,  marker='o', s= volume, linewidths=1.5,\n",
    "    edgecolors='white', alpha = .7, color=color[(standarize*10)])\n",
    "\n",
    "#Add Labels to Map\n",
    "df_text=df_airports[(df_airports['Num_Flights']>70000) \\\n",
    "                    & (df_airports['faa_code'] != 'HNL')] #ignoring Hawaii\n",
    "xtext,ytext = map(np.asarray(df_text['lng']), np.asarray(df_text['lat']))\n",
    "txt=np.asarray(df_text['faa_code'])\n",
    "zp=zip(xtext,ytext,txt)\n",
    "for row in zp:\n",
    "    pl.text(row[0],row[1],row[2], fontsize=16, color='blue',)\n",
    "\n",
    "plt.title(\"U.S. Airport Delays\", fontsize = 42)    \n",
    "plt.show()"
   ]
  },
  {
   "cell_type": "code",
   "execution_count": null,
   "metadata": {
    "collapsed": true
   },
   "outputs": [],
   "source": []
  }
 ],
 "metadata": {
  "anaconda-cloud": {},
  "kernelspec": {
   "display_name": "Python 2",
   "language": "python",
   "name": "python2"
  },
  "language_info": {
   "codemirror_mode": {
    "name": "ipython",
    "version": 2
   },
   "file_extension": ".py",
   "mimetype": "text/x-python",
   "name": "python",
   "nbconvert_exporter": "python",
   "pygments_lexer": "ipython2",
   "version": "2.7.12"
  }
 },
 "nbformat": 4,
 "nbformat_minor": 0
}
